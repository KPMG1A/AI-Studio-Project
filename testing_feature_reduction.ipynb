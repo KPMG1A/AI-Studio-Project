{
 "cells": [
  {
   "cell_type": "markdown",
   "metadata": {},
   "source": [
    "# Testing Feature Reduction\n",
    "In this test to improve our model, we are testing the number of features needed to optimize our model, ranging from 3 to 10."
   ]
  },
  {
   "cell_type": "markdown",
   "metadata": {},
   "source": [
    "## 1. Setting Up Our Model"
   ]
  },
  {
   "cell_type": "code",
   "execution_count": 1,
   "metadata": {},
   "outputs": [],
   "source": [
    "# Importing libraries \n",
    "import pandas as pd\n",
    "import matplotlib.pyplot as plt\n",
    "import seaborn as sns\n",
    "import numpy as np\n",
    "from sklearn.preprocessing import StandardScaler\n",
    "from sklearn.ensemble import RandomForestClassifier\n",
    "from sklearn.feature_selection import RFE\n",
    "from sklearn.model_selection import train_test_split, RandomizedSearchCV\n",
    "from sklearn.metrics import classification_report, roc_auc_score, roc_curve, precision_recall_curve, confusion_matrix, ConfusionMatrixDisplay"
   ]
  },
  {
   "cell_type": "code",
   "execution_count": 2,
   "metadata": {},
   "outputs": [],
   "source": [
    "# Load the dataset\n",
    "df = pd.read_csv('combined_donor_info.csv')"
   ]
  },
  {
   "cell_type": "code",
   "execution_count": 3,
   "metadata": {},
   "outputs": [],
   "source": [
    "# Create a copy of the original DataFrame for cleaning\n",
    "df_copy = df.copy()"
   ]
  },
  {
   "cell_type": "markdown",
   "metadata": {},
   "source": [
    "### Missing Values"
   ]
  },
  {
   "cell_type": "code",
   "execution_count": 4,
   "metadata": {},
   "outputs": [],
   "source": [
    "# Fill missing values appropriately\n",
    "for column in df_copy.columns:\n",
    "    if df_copy[column].dtype == 'object':  # Categorical data\n",
    "        # Fill missing values with mode for categorical data\n",
    "        df_copy[column] = df_copy[column].fillna(df_copy[column].mode()[0])\n",
    "    else:  # Numerical data\n",
    "        # Fill missing values with median for numerical data\n",
    "        df_copy[column] = df_copy[column].fillna(df_copy[column].median())"
   ]
  },
  {
   "cell_type": "markdown",
   "metadata": {},
   "source": [
    "### Changing Types"
   ]
  },
  {
   "cell_type": "code",
   "execution_count": 5,
   "metadata": {},
   "outputs": [],
   "source": [
    "# Handle numerical conversions for specific columns\n",
    "conv_to_float = []\n",
    "for col in df_copy.columns:\n",
    "    if df_copy[col].dtype == 'object':\n",
    "        conv_to_float.append(col)"
   ]
  },
  {
   "cell_type": "code",
   "execution_count": 6,
   "metadata": {},
   "outputs": [
    {
     "name": "stdout",
     "output_type": "stream",
     "text": [
      "Column 'Minority %' successfully converted to float with median replacement.\n",
      "Column 'Poor %' successfully converted to float with median replacement.\n",
      "Column 'Poor Family %' successfully converted to float with median replacement.\n",
      "Column 'Car or Van %' successfully converted to float with median replacement.\n",
      "Column 'Public Transport %' successfully converted to float with median replacement.\n",
      "Column 'Health Ins %' successfully converted to float with median replacement.\n",
      "Column 'No Health Ins %' successfully converted to float with median replacement.\n",
      "Column 'Unemployed %' successfully converted to float with median replacement.\n",
      "Column 'Employed %' successfully converted to float with median replacement.\n",
      "Column 'Armed Forces %' successfully converted to float with median replacement.\n",
      "Column 'Not in Labor Force %' successfully converted to float with median replacement.\n",
      "Column 'Under 10 %' successfully converted to float with median replacement.\n",
      "Column 'Under 35 %' successfully converted to float with median replacement.\n",
      "Column 'Over 65 %' successfully converted to float with median replacement.\n",
      "Column 'Over 85 %' successfully converted to float with median replacement.\n",
      "Column 'High school %' successfully converted to float with median replacement.\n",
      "Column 'College %' successfully converted to float with median replacement.\n",
      "Column '0-50k %' successfully converted to float with median replacement.\n",
      "Column '50-100k %' successfully converted to float with median replacement.\n",
      "Column '100-150k %' successfully converted to float with median replacement.\n",
      "Column '150-200k %' successfully converted to float with median replacement.\n",
      "Column '200k+ %' successfully converted to float with median replacement.\n"
     ]
    }
   ],
   "source": [
    "exclude_cols = ['Maked Primary Campaign', 'Stage', 'Account Type', 'Billing Zip/Postal Code', \n",
    "                'Fiscal Period', 'Close Date']\n",
    "conv_to_float = [col for col in conv_to_float if col not in exclude_cols]\n",
    "\n",
    "for col in conv_to_float:\n",
    "    # Replace '#DIV/0!' with NaN first\n",
    "    df_copy[col] = pd.to_numeric(df_copy[col], errors='coerce')\n",
    "    \n",
    "    # Fill NaNs with the median of the column\n",
    "    median_value = df_copy[col].median()\n",
    "    df_copy[col] = df_copy[col].fillna(median_value)\n",
    "    \n",
    "    # Convert the column to float\n",
    "    try:\n",
    "        df_copy[col] = df_copy[col].astype(float)\n",
    "        print(f\"Column '{col}' successfully converted to float with median replacement.\")\n",
    "    except ValueError:\n",
    "        print(f\"Column '{col}' could not be converted to float.\")"
   ]
  },
  {
   "cell_type": "markdown",
   "metadata": {},
   "source": [
    "### Scaling Features"
   ]
  },
  {
   "cell_type": "code",
   "execution_count": 7,
   "metadata": {},
   "outputs": [],
   "source": [
    "# Scale numerical features\n",
    "numerical_columns = ['Amount', 'Pop', 'Households', 'HH Income', 'Education Years']\n",
    "scaler = StandardScaler()\n",
    "df_copy[numerical_columns] = scaler.fit_transform(df_copy[numerical_columns])"
   ]
  },
  {
   "cell_type": "markdown",
   "metadata": {},
   "source": [
    "### Feature Engineering"
   ]
  },
  {
   "cell_type": "code",
   "execution_count": 8,
   "metadata": {},
   "outputs": [],
   "source": [
    "# Create large donation flag\n",
    "threshold = df_copy['Amount'].quantile(0.95)\n",
    "df_copy['large_donation_flag'] = (df_copy['Amount'] > threshold).astype(int)"
   ]
  },
  {
   "cell_type": "code",
   "execution_count": 9,
   "metadata": {},
   "outputs": [],
   "source": [
    "# Process dates\n",
    "df_copy['Close Date'] = pd.to_datetime(df_copy['Close Date'])\n",
    "df_copy['Close Year'] = df_copy['Close Date'].dt.year\n",
    "df_copy['Close Month'] = df_copy['Close Date'].dt.month\n",
    "df_copy['Close DayOfWeek'] = df_copy['Close Date'].dt.dayofweek"
   ]
  },
  {
   "cell_type": "markdown",
   "metadata": {},
   "source": [
    "Our Label"
   ]
  },
  {
   "cell_type": "code",
   "execution_count": 10,
   "metadata": {},
   "outputs": [],
   "source": [
    "donor_counts = df_copy['Masked Account ID'].value_counts()\n",
    "df_copy['repeat_donor'] = df_copy['Masked Account ID'].map(lambda x: 1 if donor_counts[x] > 1 else 0)"
   ]
  },
  {
   "cell_type": "code",
   "execution_count": 11,
   "metadata": {},
   "outputs": [],
   "source": [
    "df_copy = df_copy.drop_duplicates(subset='Masked Account ID').reset_index(drop=True)"
   ]
  },
  {
   "cell_type": "code",
   "execution_count": 12,
   "metadata": {},
   "outputs": [],
   "source": [
    "# Handle categorical variables\n",
    "import category_encoders as ce\n",
    "\n",
    "# Target encoding for high-cardinality columns\n",
    "target_encoder = ce.TargetEncoder(cols=['Billing Zip/Postal Code'])\n",
    "df_copy[['Billing Zip/Postal Code']] = target_encoder.fit_transform(\n",
    "    df_copy[['Billing Zip/Postal Code']], \n",
    "    df_copy['Amount']\n",
    ")"
   ]
  },
  {
   "cell_type": "code",
   "execution_count": 13,
   "metadata": {},
   "outputs": [],
   "source": [
    "# One-hot encoding for categorical columns\n",
    "df_copy = pd.get_dummies(df_copy, columns=['Account Type', 'Stage', 'Maked Primary Campaign'], \n",
    "                        drop_first=True)"
   ]
  },
  {
   "cell_type": "markdown",
   "metadata": {},
   "source": [
    "### Feature Selection"
   ]
  },
  {
   "cell_type": "code",
   "execution_count": 14,
   "metadata": {},
   "outputs": [
    {
     "name": "stdout",
     "output_type": "stream",
     "text": [
      "Selected Features: Index(['Billing Zip/Postal Code', 'ZCTA', 'Year', 'Minority %',\n",
      "       'Poor Family %', 'No Health Ins %', 'Unemployed %', 'Close Year',\n",
      "       'Close Month', 'Close DayOfWeek'],\n",
      "      dtype='object')\n"
     ]
    }
   ],
   "source": [
    "# Initialize feature selector\n",
    "estimator = RandomForestClassifier(random_state=42)\n",
    "rfe = RFE(estimator=estimator, n_features_to_select=10)\n",
    "\n",
    "# Prepare features\n",
    "X = df_copy.drop(columns=['Amount', 'Masked Account ID', 'repeat_donor', 'Close Date', 'Fiscal Period'])\n",
    "y = df_copy['repeat_donor']\n",
    "\n",
    "# Fit RFE\n",
    "rfe.fit(X, y)\n",
    "\n",
    "# Get selected features\n",
    "selected_features = X.columns[rfe.support_]\n",
    "print(\"Selected Features:\", selected_features)"
   ]
  },
  {
   "cell_type": "markdown",
   "metadata": {},
   "source": [
    "## 2. Testing Our New Model"
   ]
  },
  {
   "cell_type": "code",
   "execution_count": 15,
   "metadata": {},
   "outputs": [
    {
     "name": "stdout",
     "output_type": "stream",
     "text": [
      "\n",
      "Testing with 3 selected features...\n",
      "Selected Features: ['Billing Zip/Postal Code', 'Year', 'Minority %']\n",
      "F1 Score: 0.810574607360849\n",
      "AUC-ROC: 0.8761116468445301\n",
      "\n",
      "Testing with 4 selected features...\n",
      "Selected Features: ['Billing Zip/Postal Code', 'Year', 'Minority %', 'Poor Family %']\n",
      "F1 Score: 0.8106734898638028\n",
      "AUC-ROC: 0.874303546555234\n",
      "\n",
      "Testing with 5 selected features...\n",
      "Selected Features: ['Billing Zip/Postal Code', 'ZCTA', 'Year', 'Minority %', 'Poor Family %']\n",
      "F1 Score: 0.8079123770300316\n",
      "AUC-ROC: 0.8752946533804777\n",
      "\n",
      "Testing with 6 selected features...\n",
      "Selected Features: ['Billing Zip/Postal Code', 'ZCTA', 'Year', 'Minority %', 'Poor Family %', 'Close Year']\n",
      "F1 Score: 0.7979337992134099\n",
      "AUC-ROC: 0.8789778206364514\n",
      "\n",
      "Testing with 7 selected features...\n",
      "Selected Features: ['Billing Zip/Postal Code', 'ZCTA', 'Year', 'Minority %', 'Poor Family %', 'Close Year', 'Close Month']\n",
      "F1 Score: 0.7875017662004064\n",
      "AUC-ROC: 0.8767411336119147\n",
      "\n",
      "Testing with 8 selected features...\n",
      "Selected Features: ['Billing Zip/Postal Code', 'ZCTA', 'Year', 'Minority %', 'Poor Family %', 'Close Year', 'Close Month', 'Close DayOfWeek']\n",
      "F1 Score: 0.8060429936212323\n",
      "AUC-ROC: 0.8847771348976748\n",
      "\n",
      "Testing with 9 selected features...\n",
      "Selected Features: ['Billing Zip/Postal Code', 'ZCTA', 'Year', 'Minority %', 'Poor Family %', 'No Health Ins %', 'Close Year', 'Close Month', 'Close DayOfWeek']\n",
      "F1 Score: 0.8060429936212323\n",
      "AUC-ROC: 0.8840003214400515\n",
      "\n",
      "Testing with 10 selected features...\n",
      "Selected Features: ['Billing Zip/Postal Code', 'ZCTA', 'Year', 'Minority %', 'Poor Family %', 'No Health Ins %', 'Unemployed %', 'Close Year', 'Close Month', 'Close DayOfWeek']\n",
      "F1 Score: 0.8106734898638028\n",
      "AUC-ROC: 0.8812680810028929\n",
      "\n",
      "Optimal Result:\n",
      "{'n_features': 4, 'selected_features': ['Billing Zip/Postal Code', 'Year', 'Minority %', 'Poor Family %'], 'f1_score': 0.8106734898638028, 'auc_roc': 0.874303546555234, 'best_params': {'n_estimators': 300, 'min_samples_split': 10, 'min_samples_leaf': 2, 'max_depth': None, 'bootstrap': False}}\n"
     ]
    }
   ],
   "source": [
    "# Prepare features and target\n",
    "X_full = df_copy.drop(columns=['Amount', 'Masked Account ID', 'repeat_donor', 'Close Date', 'Fiscal Period'])\n",
    "y = df_copy['repeat_donor']\n",
    "\n",
    "# Initialize parameter grid\n",
    "param_grid_rf = {\n",
    "    'n_estimators': [100, 200, 300, 400, 500],\n",
    "    'max_depth': [None, 10, 20, 30, 40, 50],\n",
    "    'min_samples_split': [2, 5, 10],\n",
    "    'min_samples_leaf': [1, 2, 4],\n",
    "    'bootstrap': [True, False]\n",
    "}\n",
    "\n",
    "# Define results storage\n",
    "results = []\n",
    "\n",
    "# Loop through different values of n_features_to_select\n",
    "for n_features in range(3, 11):\n",
    "    print(f\"\\nTesting with {n_features} selected features...\")\n",
    "    \n",
    "    # Initialize RFE\n",
    "    estimator = RandomForestClassifier(random_state=42)\n",
    "    rfe = RFE(estimator=estimator, n_features_to_select=n_features)\n",
    "    \n",
    "    # Fit RFE\n",
    "    rfe.fit(X_full, y)\n",
    "    \n",
    "    # Get selected features\n",
    "    selected_features = X_full.columns[rfe.support_]\n",
    "    print(\"Selected Features:\", selected_features.tolist())\n",
    "    \n",
    "    # Prepare feature set\n",
    "    X = df_copy[selected_features]\n",
    "    \n",
    "    # Split data\n",
    "    X_train, X_test, y_train, y_test = train_test_split(X, y, test_size=0.3, random_state=42)\n",
    "    \n",
    "    # Initialize and train model\n",
    "    rf_model = RandomForestClassifier(random_state=42)\n",
    "    rf_search = RandomizedSearchCV(\n",
    "        estimator=rf_model, param_distributions=param_grid_rf, n_iter=20, \n",
    "        cv=5, scoring='f1', random_state=42, n_jobs=-1\n",
    "    )\n",
    "    rf_search.fit(X_train, y_train)\n",
    "    \n",
    "    # Make predictions\n",
    "    best_rf_model = rf_search.best_estimator_\n",
    "    y_pred = best_rf_model.predict(X_test)\n",
    "    y_pred_proba = best_rf_model.predict_proba(X_test)[:, 1]\n",
    "    \n",
    "    # Evaluate model\n",
    "    f1 = classification_report(y_test, y_pred, output_dict=True)['weighted avg']['f1-score']\n",
    "    auc_roc = roc_auc_score(y_test, y_pred_proba)\n",
    "    print(f\"F1 Score: {f1}\")\n",
    "    print(f\"AUC-ROC: {auc_roc}\")\n",
    "    \n",
    "    # Save results\n",
    "    results.append({\n",
    "        'n_features': n_features,\n",
    "        'selected_features': selected_features.tolist(),\n",
    "        'f1_score': f1,\n",
    "        'auc_roc': auc_roc,\n",
    "        'best_params': rf_search.best_params_\n",
    "    })\n",
    "\n",
    "# Find the optimal number of features\n",
    "optimal_result = max(results, key=lambda x: x['f1_score'])\n",
    "print(\"\\nOptimal Result:\")\n",
    "print(optimal_result)"
   ]
  },
  {
   "cell_type": "code",
   "execution_count": 16,
   "metadata": {},
   "outputs": [
    {
     "name": "stdout",
     "output_type": "stream",
     "text": [
      "Classification Report:\n",
      "               precision    recall  f1-score   support\n",
      "\n",
      "           0       0.72      0.84      0.77       153\n",
      "           1       0.89      0.79      0.84       244\n",
      "\n",
      "    accuracy                           0.81       397\n",
      "   macro avg       0.80      0.81      0.80       397\n",
      "weighted avg       0.82      0.81      0.81       397\n",
      "\n",
      "AUC-ROC: 0.874303546555234\n"
     ]
    }
   ],
   "source": [
    "from sklearn.ensemble import RandomForestClassifier\n",
    "from sklearn.metrics import classification_report, roc_auc_score, confusion_matrix, precision_recall_curve\n",
    "import matplotlib.pyplot as plt\n",
    "import seaborn as sns\n",
    "\n",
    "# Prepare final feature set based on optimal result\n",
    "selected_features = ['Billing Zip/Postal Code', 'Year', 'Minority %', 'Poor Family %']\n",
    "X = df_copy[selected_features]\n",
    "y = df_copy['repeat_donor']\n",
    "\n",
    "# Split data\n",
    "X_train, X_test, y_train, y_test = train_test_split(X, y, test_size=0.3, random_state=42)\n",
    "\n",
    "# Train the final model with optimal hyperparameters\n",
    "best_params = {\n",
    "    'n_estimators': 300,\n",
    "    'min_samples_split': 10,\n",
    "    'min_samples_leaf': 2,\n",
    "    'max_depth': None,\n",
    "    'bootstrap': False,\n",
    "    'random_state': 42\n",
    "}\n",
    "final_model = RandomForestClassifier(**best_params)\n",
    "final_model.fit(X_train, y_train)\n",
    "\n",
    "# Make predictions\n",
    "y_pred = final_model.predict(X_test)\n",
    "y_pred_proba = final_model.predict_proba(X_test)[:, 1]\n",
    "\n",
    "# Evaluate model\n",
    "print(\"Classification Report:\\n\", classification_report(y_test, y_pred))\n",
    "print(\"AUC-ROC:\", roc_auc_score(y_test, y_pred_proba))"
   ]
  },
  {
   "cell_type": "code",
   "execution_count": 17,
   "metadata": {},
   "outputs": [
    {
     "data": {
      "image/png": "[encoded data removed]",
      "text/plain": [
       "<Figure size 800x600 with 2 Axes>"
      ]
     },
     "metadata": {},
     "output_type": "display_data"
    }
   ],
   "source": [
    "# Plot confusion matrix\n",
    "plt.figure(figsize=(8, 6))\n",
    "cm = confusion_matrix(y_test, y_pred)\n",
    "sns.heatmap(cm, annot=True, fmt='d', cmap='Blues', \n",
    "            xticklabels=[\"Non-Repeat\", \"Repeat\"], \n",
    "            yticklabels=[\"Non-Repeat\", \"Repeat\"])\n",
    "plt.xlabel(\"Predicted Labels\")\n",
    "plt.ylabel(\"True Labels\")\n",
    "plt.title(\"Confusion Matrix\")\n",
    "plt.show()"
   ]
  },
  {
   "cell_type": "code",
   "execution_count": 18,
   "metadata": {},
   "outputs": [
    {
     "data": {
      "image/png": "[encoded data removed]",
      "text/plain": [
       "<Figure size 800x600 with 1 Axes>"
      ]
     },
     "metadata": {},
     "output_type": "display_data"
    }
   ],
   "source": [
    "# Precision-Recall Curve\n",
    "precision_vals, recall_vals, _ = precision_recall_curve(y_test, y_pred_proba)\n",
    "plt.figure(figsize=(8, 6))\n",
    "plt.plot(recall_vals, precision_vals)\n",
    "plt.xlabel(\"Recall\")\n",
    "plt.ylabel(\"Precision\")\n",
    "plt.title(\"Precision-Recall Curve\")\n",
    "plt.show()"
   ]
  },
  {
   "cell_type": "code",
   "execution_count": 19,
   "metadata": {},
   "outputs": [
    {
     "data": {
      "image/png": "[encoded data removed]",
      "text/plain": [
       "<Figure size 800x600 with 1 Axes>"
      ]
     },
     "metadata": {},
     "output_type": "display_data"
    }
   ],
   "source": [
    "# ROC Curve\n",
    "fpr, tpr, _ = roc_curve(y_test, y_pred_proba)\n",
    "plt.figure(figsize=(8, 6))\n",
    "plt.plot(fpr, tpr, label=f\"AUC = {roc_auc_score(y_test, y_pred_proba):.2f}\")\n",
    "plt.xlabel(\"False Positive Rate\")\n",
    "plt.ylabel(\"True Positive Rate\")\n",
    "plt.title(\"ROC Curve\")\n",
    "plt.legend(loc=\"lower right\")\n",
    "plt.show()"
   ]
  },
  {
   "cell_type": "markdown",
   "metadata": {},
   "source": [
    "# Conclusion"
   ]
  },
  {
   "cell_type": "markdown",
   "metadata": {},
   "source": [
    "Our current model had a higher AUC-ROC score by 0.1, so we will stick with our current model.\n",
    "\n",
    "Interestingly, this model outputted that the best number of features were when there are only 4, but with 10 features the score is slightly better."
   ]
  }
 ],
 "metadata": {
  "kernelspec": {
   "display_name": "Python 3",
   "language": "python",
   "name": "python3"
  },
  "language_info": {
   "codemirror_mode": {
    "name": "ipython",
    "version": 3
   },
   "file_extension": ".py",
   "mimetype": "text/x-python",
   "name": "python",
   "nbconvert_exporter": "python",
   "pygments_lexer": "ipython3",
   "version": "3.11.4"
  }
 },
 "nbformat": 4,
 "nbformat_minor": 2
}
